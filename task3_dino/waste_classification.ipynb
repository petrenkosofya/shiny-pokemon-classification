{
  "cells": [
    {
      "cell_type": "code",
      "execution_count": 1,
      "metadata": {
        "id": "9JEZ5ez6piZy",
        "colab": {
          "base_uri": "https://localhost:8080/"
        },
        "outputId": "dd858fb9-00b4-4cea-c77d-17554c5775f7"
      },
      "outputs": [
        {
          "output_type": "stream",
          "name": "stdout",
          "text": [
            "Using Colab cache for faster access to the 'waste-classification-data' dataset.\n",
            "Path to dataset files: /kaggle/input/waste-classification-data\n"
          ]
        }
      ],
      "source": [
        "import kagglehub\n",
        "\n",
        "# Download latest version\n",
        "dataset_path = kagglehub.dataset_download(\"techsash/waste-classification-data\")\n",
        "\n",
        "print(\"Path to dataset files:\", dataset_path)"
      ]
    },
    {
      "cell_type": "code",
      "execution_count": 2,
      "metadata": {
        "id": "Wo-nHonCplAT"
      },
      "outputs": [],
      "source": [
        "import pathlib\n",
        "\n",
        "TEST_DATA = pathlib.Path(dataset_path) / \"DATASET\" / \"TEST\"\n",
        "TRAIN_DATA = pathlib.Path(dataset_path) / \"DATASET\" / \"TRAIN\""
      ]
    },
    {
      "cell_type": "code",
      "execution_count": 3,
      "metadata": {
        "id": "BTN4ESCbztIE",
        "colab": {
          "base_uri": "https://localhost:8080/"
        },
        "outputId": "aeb4ad37-e2fd-48b9-c0f3-8c4cba17fb31"
      },
      "outputs": [
        {
          "output_type": "stream",
          "name": "stdout",
          "text": [
            "706 79\n"
          ]
        }
      ],
      "source": [
        "from torch.utils.data import DataLoader\n",
        "from torchvision import datasets, transforms\n",
        "\n",
        "train_transform = transforms.Compose([\n",
        "    transforms.Resize((224, 224)),\n",
        "    transforms.RandomHorizontalFlip(),\n",
        "    transforms.ToTensor(),\n",
        "    transforms.Normalize(mean=[0.485, 0.456, 0.406], std=[0.229, 0.224, 0.225])\n",
        "])\n",
        "\n",
        "val_transform = transforms.Compose([\n",
        "    transforms.Resize((224, 224)),\n",
        "    transforms.ToTensor(),\n",
        "    transforms.Normalize(mean=[0.485, 0.456, 0.406], std=[0.229, 0.224, 0.225])\n",
        "])\n",
        "\n",
        "train_dataset = datasets.ImageFolder(root=TRAIN_DATA, transform=train_transform)\n",
        "val_dataset = datasets.ImageFolder(root=TEST_DATA, transform=val_transform)\n",
        "\n",
        "batch_size = 32\n",
        "train_loader = DataLoader(\n",
        "    train_dataset,\n",
        "    batch_size=batch_size,\n",
        "    shuffle=True,\n",
        "    num_workers=2\n",
        ")\n",
        "\n",
        "val_loader = DataLoader(\n",
        "    val_dataset,\n",
        "    batch_size=batch_size,\n",
        "    shuffle=False,\n",
        "    num_workers=2\n",
        ")\n",
        "\n",
        "print(len(train_loader), len(val_loader))"
      ]
    },
    {
      "cell_type": "code",
      "execution_count": 4,
      "metadata": {
        "id": "_iUKSJu9xm9_"
      },
      "outputs": [],
      "source": [
        "from tqdm import tqdm\n",
        "\n",
        "\n",
        "def train_one_epoch(model, dataloader, optimizer, loss_fn, device):\n",
        "    model.train()\n",
        "    model.to(device)\n",
        "\n",
        "    total_loss = 0.0\n",
        "    correct = 0\n",
        "    total = 0\n",
        "\n",
        "    for inputs, targets in tqdm(dataloader, desc=\"Training\"):\n",
        "        inputs = inputs.to(device)\n",
        "        targets = targets.to(device).float().unsqueeze(1)\n",
        "\n",
        "        # Forward pass\n",
        "        outputs = model(inputs)\n",
        "        loss = loss_fn(outputs, targets)\n",
        "\n",
        "        # Backward pass\n",
        "        optimizer.zero_grad()\n",
        "        loss.backward()\n",
        "        optimizer.step()\n",
        "\n",
        "        # Metrics\n",
        "        total_loss += loss.item()\n",
        "        predicted = (torch.sigmoid(outputs) > 0.5).float()\n",
        "        correct += (predicted == targets).sum().item()\n",
        "        total += targets.size(0)\n",
        "\n",
        "    avg_loss = total_loss / len(dataloader)\n",
        "    accuracy = 100 * correct / total\n",
        "\n",
        "    return {'loss': avg_loss, 'accuracy': accuracy}"
      ]
    },
    {
      "cell_type": "code",
      "execution_count": 5,
      "metadata": {
        "id": "qpTUxDV6zry-"
      },
      "outputs": [],
      "source": [
        "def validate_one_epoch(model, dataloader, loss_fn, device):\n",
        "    model.eval()\n",
        "    model.to(device)\n",
        "\n",
        "    total_loss = 0.0\n",
        "    correct = 0\n",
        "    total = 0\n",
        "\n",
        "    with torch.no_grad():\n",
        "        for inputs, targets in tqdm(dataloader, desc=\"Validation\"):\n",
        "            inputs = inputs.to(device)\n",
        "            targets = targets.to(device).float().unsqueeze(1)\n",
        "\n",
        "            # Forward pass\n",
        "            outputs = model(inputs)\n",
        "            loss = loss_fn(outputs, targets)\n",
        "\n",
        "            # Metrics\n",
        "            total_loss += loss.item()\n",
        "            predicted = (torch.sigmoid(outputs) > 0.5).float()\n",
        "            correct += (predicted == targets).sum().item()\n",
        "            total += targets.size(0)\n",
        "\n",
        "    avg_loss = total_loss / len(dataloader)\n",
        "    accuracy = 100 * correct / total\n",
        "\n",
        "    return {'loss': avg_loss, 'accuracy': accuracy}"
      ]
    },
    {
      "cell_type": "code",
      "execution_count": 6,
      "metadata": {
        "id": "KmQpH4jYz6Td"
      },
      "outputs": [],
      "source": [
        "def train_model(model, train_loader, val_loader, optimizer, loss_fn, device, epochs):\n",
        "    history = {\n",
        "        'train_loss': [],\n",
        "        'train_accuracy': [],\n",
        "        'val_loss': [],\n",
        "        'val_accuracy': []\n",
        "    }\n",
        "\n",
        "    best_val_accuracy = 0.0\n",
        "\n",
        "    for epoch in range(epochs):\n",
        "        print(f\"\\nEpoch {epoch + 1}/{epochs}\")\n",
        "        print(\"-\" * 50)\n",
        "\n",
        "        train_metrics = train_one_epoch(model, train_loader, optimizer, loss_fn, device)\n",
        "        print(f\"Train Loss: {train_metrics['loss']:.4f}, Train Accuracy: {train_metrics['accuracy']:.2f}%\")\n",
        "\n",
        "        val_metrics = validate_one_epoch(model, val_loader, loss_fn, device)\n",
        "        print(f\"Val Loss: {val_metrics['loss']:.4f}, Val Accuracy: {val_metrics['accuracy']:.2f}%\")\n",
        "\n",
        "        history['train_loss'].append(train_metrics['loss'])\n",
        "        history['train_accuracy'].append(train_metrics['accuracy'])\n",
        "        history['val_loss'].append(val_metrics['loss'])\n",
        "        history['val_accuracy'].append(val_metrics['accuracy'])\n",
        "\n",
        "        if val_metrics['accuracy'] > best_val_accuracy:\n",
        "            best_val_accuracy = val_metrics['accuracy']\n",
        "            torch.save(model.state_dict(), 'best_model.pth')\n",
        "            print(f\"✓ Saved best model with validation accuracy: {best_val_accuracy:.2f}%\")\n",
        "\n",
        "    return history"
      ]
    },
    {
      "cell_type": "code",
      "execution_count": 7,
      "metadata": {
        "id": "wQijtIGb0NNp",
        "colab": {
          "base_uri": "https://localhost:8080/"
        },
        "outputId": "d67ef582-c5af-47fc-e1c1-72ff8b5d10d1"
      },
      "outputs": [
        {
          "output_type": "stream",
          "name": "stdout",
          "text": [
            "Using device: cuda\n"
          ]
        }
      ],
      "source": [
        "import torch\n",
        "import torch.nn as nn\n",
        "\n",
        "device = 'cuda' if torch.cuda.is_available() else 'cpu'\n",
        "print(f\"Using device: {device}\")\n",
        "\n",
        "loss_fn = nn.BCEWithLogitsLoss()"
      ]
    },
    {
      "cell_type": "code",
      "execution_count": 8,
      "metadata": {
        "id": "LXE-Zr5lz7PG",
        "colab": {
          "base_uri": "https://localhost:8080/"
        },
        "outputId": "740eaadf-d2c9-470b-ecfb-7c9fdb5daba5"
      },
      "outputs": [
        {
          "output_type": "stream",
          "name": "stdout",
          "text": [
            "Downloading: \"https://download.pytorch.org/models/resnet152-394f9c45.pth\" to /root/.cache/torch/hub/checkpoints/resnet152-394f9c45.pth\n"
          ]
        },
        {
          "output_type": "stream",
          "name": "stderr",
          "text": [
            "100%|██████████| 230M/230M [00:01<00:00, 200MB/s]\n"
          ]
        },
        {
          "output_type": "stream",
          "name": "stdout",
          "text": [
            "  Total parameters: 58,145,857\n",
            "  Trainable parameters: 2,049\n",
            "  Frozen parameters: 58,143,808\n"
          ]
        }
      ],
      "source": [
        "from torchvision import models\n",
        "from torchvision.models import ResNet152_Weights\n",
        "\n",
        "model = models.resnet152(weights=ResNet152_Weights.IMAGENET1K_V1)\n",
        "\n",
        "for param in model.parameters():\n",
        "    param.requires_grad = False\n",
        "\n",
        "model.fc = nn.Linear(model.fc.in_features, 1)\n",
        "\n",
        "optimizer_resnet = torch.optim.Adam(model.fc.parameters(), lr=1e-3)\n",
        "\n",
        "trainable_params = sum(p.numel() for p in model.parameters() if p.requires_grad)\n",
        "total_params = sum(p.numel() for p in model.parameters())\n",
        "print(f\"  Total parameters: {total_params:,}\")\n",
        "print(f\"  Trainable parameters: {trainable_params:,}\")\n",
        "print(f\"  Frozen parameters: {total_params - trainable_params:,}\")"
      ]
    },
    {
      "cell_type": "code",
      "execution_count": 9,
      "metadata": {
        "id": "ZKBJaxaQz-i7",
        "colab": {
          "base_uri": "https://localhost:8080/"
        },
        "outputId": "024581cb-9c90-4efb-d1b0-2ec0925b03bf"
      },
      "outputs": [
        {
          "output_type": "stream",
          "name": "stdout",
          "text": [
            "Downloading: \"https://download.pytorch.org/models/swin_b-68c6b09e.pth\" to /root/.cache/torch/hub/checkpoints/swin_b-68c6b09e.pth\n"
          ]
        },
        {
          "output_type": "stream",
          "name": "stderr",
          "text": [
            "100%|██████████| 335M/335M [00:02<00:00, 154MB/s]\n"
          ]
        },
        {
          "output_type": "stream",
          "name": "stdout",
          "text": [
            "  Total parameters: 86,744,249\n",
            "  Trainable parameters: 1,025\n",
            "  Frozen parameters: 86,743,224\n"
          ]
        }
      ],
      "source": [
        "from torchvision.models import swin_b, Swin_B_Weights\n",
        "\n",
        "model_swin = swin_b(weights=Swin_B_Weights.IMAGENET1K_V1)\n",
        "\n",
        "for param in model_swin.parameters():\n",
        "    param.requires_grad = False\n",
        "\n",
        "model_swin.head = nn.Linear(model_swin.head.in_features, 1)\n",
        "\n",
        "optimizer_swin = torch.optim.Adam(model_swin.head.parameters(), lr=1e-3)\n",
        "\n",
        "trainable_params = sum(p.numel() for p in model_swin.parameters() if p.requires_grad)\n",
        "total_params = sum(p.numel() for p in model_swin.parameters())\n",
        "print(f\"  Total parameters: {total_params:,}\")\n",
        "print(f\"  Trainable parameters: {trainable_params:,}\")\n",
        "print(f\"  Frozen parameters: {total_params - trainable_params:,}\")"
      ]
    },
    {
      "cell_type": "code",
      "source": [
        "from torchvision.models import vit_b_16, ViT_B_16_Weights\n",
        "\n",
        "model_vit = vit_b_16(weights=ViT_B_16_Weights.IMAGENET1K_V1)\n",
        "\n",
        "for param in model_vit.parameters():\n",
        "    param.requires_grad = False\n",
        "\n",
        "model_vit.heads.head = nn.Linear(model_vit.heads.head.in_features, 1)\n",
        "\n",
        "optimizer_vit = torch.optim.Adam(model_vit.heads.head.parameters(), lr=1e-3)\n",
        "\n",
        "trainable_params = sum(p.numel() for p in model_vit.parameters() if p.requires_grad)\n",
        "total_params = sum(p.numel() for p in model_vit.parameters())\n",
        "print(f\"  Total parameters: {total_params:,}\")\n",
        "print(f\"  Trainable parameters: {trainable_params:,}\")\n",
        "print(f\"  Frozen parameters: {total_params - trainable_params:,}\")"
      ],
      "metadata": {
        "colab": {
          "base_uri": "https://localhost:8080/"
        },
        "id": "qjTNXnUggiaG",
        "outputId": "9a287197-fe6a-4b26-fd2e-feffe2ebcbd2"
      },
      "execution_count": 10,
      "outputs": [
        {
          "output_type": "stream",
          "name": "stdout",
          "text": [
            "Downloading: \"https://download.pytorch.org/models/vit_b_16-c867db91.pth\" to /root/.cache/torch/hub/checkpoints/vit_b_16-c867db91.pth\n"
          ]
        },
        {
          "output_type": "stream",
          "name": "stderr",
          "text": [
            "100%|██████████| 330M/330M [00:01<00:00, 188MB/s]\n"
          ]
        },
        {
          "output_type": "stream",
          "name": "stdout",
          "text": [
            "  Total parameters: 85,799,425\n",
            "  Trainable parameters: 769\n",
            "  Frozen parameters: 85,798,656\n"
          ]
        }
      ]
    },
    {
      "cell_type": "code",
      "execution_count": 11,
      "metadata": {
        "id": "CyfPrdGA0A8A",
        "colab": {
          "base_uri": "https://localhost:8080/"
        },
        "outputId": "3f59a34d-4983-4182-805e-d05b7f342fc7"
      },
      "outputs": [
        {
          "output_type": "stream",
          "name": "stdout",
          "text": [
            "Downloading: \"https://github.com/facebookresearch/dinov2/zipball/main\" to /root/.cache/torch/hub/main.zip\n"
          ]
        },
        {
          "output_type": "stream",
          "name": "stderr",
          "text": [
            "/root/.cache/torch/hub/facebookresearch_dinov2_main/dinov2/layers/swiglu_ffn.py:51: UserWarning: xFormers is not available (SwiGLU)\n",
            "  warnings.warn(\"xFormers is not available (SwiGLU)\")\n",
            "/root/.cache/torch/hub/facebookresearch_dinov2_main/dinov2/layers/attention.py:33: UserWarning: xFormers is not available (Attention)\n",
            "  warnings.warn(\"xFormers is not available (Attention)\")\n",
            "/root/.cache/torch/hub/facebookresearch_dinov2_main/dinov2/layers/block.py:40: UserWarning: xFormers is not available (Block)\n",
            "  warnings.warn(\"xFormers is not available (Block)\")\n"
          ]
        },
        {
          "output_type": "stream",
          "name": "stdout",
          "text": [
            "Downloading: \"https://dl.fbaipublicfiles.com/dinov2/dinov2_vitb14/dinov2_vitb14_pretrain.pth\" to /root/.cache/torch/hub/checkpoints/dinov2_vitb14_pretrain.pth\n"
          ]
        },
        {
          "output_type": "stream",
          "name": "stderr",
          "text": [
            "100%|██████████| 330M/330M [00:01<00:00, 262MB/s]\n"
          ]
        },
        {
          "output_type": "stream",
          "name": "stdout",
          "text": [
            "  Total parameters: 86,581,249\n",
            "  Trainable parameters: 769\n",
            "  Frozen parameters: 86,580,480\n"
          ]
        }
      ],
      "source": [
        "model_dinov2 = torch.hub.load('facebookresearch/dinov2', 'dinov2_vitb14')\n",
        "\n",
        "for param in model_dinov2.parameters():\n",
        "    param.requires_grad = False\n",
        "\n",
        "# Add classification head\n",
        "model_dinov2.head = nn.Linear(768, 1)  # DINOv2 ViT-B/14 has 768 dimensional embeddings\n",
        "\n",
        "optimizer_dinov2 = torch.optim.Adam(model_dinov2.head.parameters(), lr=1e-3)\n",
        "\n",
        "trainable_params = sum(p.numel() for p in model_dinov2.parameters() if p.requires_grad)\n",
        "total_params = sum(p.numel() for p in model_dinov2.parameters())\n",
        "print(f\"  Total parameters: {total_params:,}\")\n",
        "print(f\"  Trainable parameters: {trainable_params:,}\")\n",
        "print(f\"  Frozen parameters: {total_params - trainable_params:,}\")"
      ]
    },
    {
      "cell_type": "code",
      "execution_count": 12,
      "metadata": {
        "colab": {
          "base_uri": "https://localhost:8080/"
        },
        "id": "zvBHo_JR0CJl",
        "outputId": "9c1d364b-9381-44a2-ae4b-92819be5109b"
      },
      "outputs": [
        {
          "output_type": "stream",
          "name": "stdout",
          "text": [
            "============================================================\n",
            "Training ResNet152\n",
            "============================================================\n",
            "\n",
            "Epoch 1/10\n",
            "--------------------------------------------------\n"
          ]
        },
        {
          "output_type": "stream",
          "name": "stderr",
          "text": [
            "Training: 100%|██████████| 706/706 [02:47<00:00,  4.22it/s]\n"
          ]
        },
        {
          "output_type": "stream",
          "name": "stdout",
          "text": [
            "Train Loss: 0.2239, Train Accuracy: 91.54%\n"
          ]
        },
        {
          "output_type": "stream",
          "name": "stderr",
          "text": [
            "Validation: 100%|██████████| 79/79 [00:18<00:00,  4.34it/s]\n"
          ]
        },
        {
          "output_type": "stream",
          "name": "stdout",
          "text": [
            "Val Loss: 0.1907, Val Accuracy: 92.68%\n",
            "✓ Saved best model with validation accuracy: 92.68%\n",
            "\n",
            "Epoch 2/10\n",
            "--------------------------------------------------\n"
          ]
        },
        {
          "output_type": "stream",
          "name": "stderr",
          "text": [
            "Training: 100%|██████████| 706/706 [02:47<00:00,  4.22it/s]\n"
          ]
        },
        {
          "output_type": "stream",
          "name": "stdout",
          "text": [
            "Train Loss: 0.1751, Train Accuracy: 93.58%\n"
          ]
        },
        {
          "output_type": "stream",
          "name": "stderr",
          "text": [
            "Validation: 100%|██████████| 79/79 [00:18<00:00,  4.37it/s]\n"
          ]
        },
        {
          "output_type": "stream",
          "name": "stdout",
          "text": [
            "Val Loss: 0.1748, Val Accuracy: 93.00%\n",
            "✓ Saved best model with validation accuracy: 93.00%\n",
            "\n",
            "Epoch 3/10\n",
            "--------------------------------------------------\n"
          ]
        },
        {
          "output_type": "stream",
          "name": "stderr",
          "text": [
            "Training: 100%|██████████| 706/706 [02:47<00:00,  4.21it/s]\n"
          ]
        },
        {
          "output_type": "stream",
          "name": "stdout",
          "text": [
            "Train Loss: 0.1709, Train Accuracy: 93.68%\n"
          ]
        },
        {
          "output_type": "stream",
          "name": "stderr",
          "text": [
            "Validation: 100%|██████████| 79/79 [00:18<00:00,  4.39it/s]\n"
          ]
        },
        {
          "output_type": "stream",
          "name": "stdout",
          "text": [
            "Val Loss: 0.1373, Val Accuracy: 94.87%\n",
            "✓ Saved best model with validation accuracy: 94.87%\n",
            "\n",
            "Epoch 4/10\n",
            "--------------------------------------------------\n"
          ]
        },
        {
          "output_type": "stream",
          "name": "stderr",
          "text": [
            "Training: 100%|██████████| 706/706 [02:47<00:00,  4.20it/s]\n"
          ]
        },
        {
          "output_type": "stream",
          "name": "stdout",
          "text": [
            "Train Loss: 0.1624, Train Accuracy: 94.14%\n"
          ]
        },
        {
          "output_type": "stream",
          "name": "stderr",
          "text": [
            "Validation: 100%|██████████| 79/79 [00:17<00:00,  4.39it/s]\n"
          ]
        },
        {
          "output_type": "stream",
          "name": "stdout",
          "text": [
            "Val Loss: 0.1791, Val Accuracy: 92.88%\n",
            "\n",
            "Epoch 5/10\n",
            "--------------------------------------------------\n"
          ]
        },
        {
          "output_type": "stream",
          "name": "stderr",
          "text": [
            "Training: 100%|██████████| 706/706 [02:47<00:00,  4.20it/s]\n"
          ]
        },
        {
          "output_type": "stream",
          "name": "stdout",
          "text": [
            "Train Loss: 0.1634, Train Accuracy: 93.94%\n"
          ]
        },
        {
          "output_type": "stream",
          "name": "stderr",
          "text": [
            "Validation: 100%|██████████| 79/79 [00:18<00:00,  4.32it/s]\n"
          ]
        },
        {
          "output_type": "stream",
          "name": "stdout",
          "text": [
            "Val Loss: 0.2162, Val Accuracy: 91.21%\n",
            "\n",
            "Epoch 6/10\n",
            "--------------------------------------------------\n"
          ]
        },
        {
          "output_type": "stream",
          "name": "stderr",
          "text": [
            "Training: 100%|██████████| 706/706 [02:48<00:00,  4.20it/s]\n"
          ]
        },
        {
          "output_type": "stream",
          "name": "stdout",
          "text": [
            "Train Loss: 0.1574, Train Accuracy: 94.25%\n"
          ]
        },
        {
          "output_type": "stream",
          "name": "stderr",
          "text": [
            "Validation: 100%|██████████| 79/79 [00:18<00:00,  4.36it/s]\n"
          ]
        },
        {
          "output_type": "stream",
          "name": "stdout",
          "text": [
            "Val Loss: 0.1558, Val Accuracy: 93.91%\n",
            "\n",
            "Epoch 7/10\n",
            "--------------------------------------------------\n"
          ]
        },
        {
          "output_type": "stream",
          "name": "stderr",
          "text": [
            "Training: 100%|██████████| 706/706 [02:48<00:00,  4.19it/s]\n"
          ]
        },
        {
          "output_type": "stream",
          "name": "stdout",
          "text": [
            "Train Loss: 0.1589, Train Accuracy: 94.11%\n"
          ]
        },
        {
          "output_type": "stream",
          "name": "stderr",
          "text": [
            "Validation: 100%|██████████| 79/79 [00:18<00:00,  4.38it/s]\n"
          ]
        },
        {
          "output_type": "stream",
          "name": "stdout",
          "text": [
            "Val Loss: 0.1579, Val Accuracy: 93.91%\n",
            "\n",
            "Epoch 8/10\n",
            "--------------------------------------------------\n"
          ]
        },
        {
          "output_type": "stream",
          "name": "stderr",
          "text": [
            "Training: 100%|██████████| 706/706 [02:47<00:00,  4.20it/s]\n"
          ]
        },
        {
          "output_type": "stream",
          "name": "stdout",
          "text": [
            "Train Loss: 0.1550, Train Accuracy: 94.23%\n"
          ]
        },
        {
          "output_type": "stream",
          "name": "stderr",
          "text": [
            "Validation: 100%|██████████| 79/79 [00:18<00:00,  4.33it/s]\n"
          ]
        },
        {
          "output_type": "stream",
          "name": "stdout",
          "text": [
            "Val Loss: 0.1330, Val Accuracy: 94.95%\n",
            "✓ Saved best model with validation accuracy: 94.95%\n",
            "\n",
            "Epoch 9/10\n",
            "--------------------------------------------------\n"
          ]
        },
        {
          "output_type": "stream",
          "name": "stderr",
          "text": [
            "Training: 100%|██████████| 706/706 [02:48<00:00,  4.20it/s]\n"
          ]
        },
        {
          "output_type": "stream",
          "name": "stdout",
          "text": [
            "Train Loss: 0.1539, Train Accuracy: 94.29%\n"
          ]
        },
        {
          "output_type": "stream",
          "name": "stderr",
          "text": [
            "Validation: 100%|██████████| 79/79 [00:18<00:00,  4.29it/s]\n"
          ]
        },
        {
          "output_type": "stream",
          "name": "stdout",
          "text": [
            "Val Loss: 0.1742, Val Accuracy: 93.04%\n",
            "\n",
            "Epoch 10/10\n",
            "--------------------------------------------------\n"
          ]
        },
        {
          "output_type": "stream",
          "name": "stderr",
          "text": [
            "Training: 100%|██████████| 706/706 [02:47<00:00,  4.20it/s]\n"
          ]
        },
        {
          "output_type": "stream",
          "name": "stdout",
          "text": [
            "Train Loss: 0.1477, Train Accuracy: 94.59%\n"
          ]
        },
        {
          "output_type": "stream",
          "name": "stderr",
          "text": [
            "Validation: 100%|██████████| 79/79 [00:18<00:00,  4.33it/s]"
          ]
        },
        {
          "output_type": "stream",
          "name": "stdout",
          "text": [
            "Val Loss: 0.1829, Val Accuracy: 92.76%\n"
          ]
        },
        {
          "output_type": "stream",
          "name": "stderr",
          "text": [
            "\n"
          ]
        }
      ],
      "source": [
        "print(\"=\" * 60)\n",
        "print(\"Training ResNet152\")\n",
        "print(\"=\" * 60)\n",
        "history_resnet = train_model(model, train_loader, val_loader, optimizer_resnet, loss_fn, device, epochs=10)"
      ]
    },
    {
      "cell_type": "code",
      "execution_count": 13,
      "metadata": {
        "id": "pFP9cALp0Shv",
        "colab": {
          "base_uri": "https://localhost:8080/"
        },
        "outputId": "32d5e208-5b8b-4da6-a533-9071f86ab41d"
      },
      "outputs": [
        {
          "output_type": "stream",
          "name": "stdout",
          "text": [
            "\n",
            "============================================================\n",
            "Training Vit-B/16\n",
            "============================================================\n",
            "\n",
            "Epoch 1/10\n",
            "--------------------------------------------------\n"
          ]
        },
        {
          "output_type": "stream",
          "name": "stderr",
          "text": [
            "Training: 100%|██████████| 706/706 [04:48<00:00,  2.45it/s]\n"
          ]
        },
        {
          "output_type": "stream",
          "name": "stdout",
          "text": [
            "Train Loss: 0.1952, Train Accuracy: 93.28%\n"
          ]
        },
        {
          "output_type": "stream",
          "name": "stderr",
          "text": [
            "Validation: 100%|██████████| 79/79 [00:27<00:00,  2.91it/s]\n"
          ]
        },
        {
          "output_type": "stream",
          "name": "stdout",
          "text": [
            "Val Loss: 0.2478, Val Accuracy: 89.14%\n",
            "✓ Saved best model with validation accuracy: 89.14%\n",
            "\n",
            "Epoch 2/10\n",
            "--------------------------------------------------\n"
          ]
        },
        {
          "output_type": "stream",
          "name": "stderr",
          "text": [
            "Training: 100%|██████████| 706/706 [04:47<00:00,  2.46it/s]\n"
          ]
        },
        {
          "output_type": "stream",
          "name": "stdout",
          "text": [
            "Train Loss: 0.1347, Train Accuracy: 95.26%\n"
          ]
        },
        {
          "output_type": "stream",
          "name": "stderr",
          "text": [
            "Validation: 100%|██████████| 79/79 [00:26<00:00,  2.94it/s]\n"
          ]
        },
        {
          "output_type": "stream",
          "name": "stdout",
          "text": [
            "Val Loss: 0.1972, Val Accuracy: 91.48%\n",
            "✓ Saved best model with validation accuracy: 91.48%\n",
            "\n",
            "Epoch 3/10\n",
            "--------------------------------------------------\n"
          ]
        },
        {
          "output_type": "stream",
          "name": "stderr",
          "text": [
            "Training: 100%|██████████| 706/706 [04:47<00:00,  2.46it/s]\n"
          ]
        },
        {
          "output_type": "stream",
          "name": "stdout",
          "text": [
            "Train Loss: 0.1254, Train Accuracy: 95.59%\n"
          ]
        },
        {
          "output_type": "stream",
          "name": "stderr",
          "text": [
            "Validation: 100%|██████████| 79/79 [00:26<00:00,  2.95it/s]\n"
          ]
        },
        {
          "output_type": "stream",
          "name": "stdout",
          "text": [
            "Val Loss: 0.1896, Val Accuracy: 91.88%\n",
            "✓ Saved best model with validation accuracy: 91.88%\n",
            "\n",
            "Epoch 4/10\n",
            "--------------------------------------------------\n"
          ]
        },
        {
          "output_type": "stream",
          "name": "stderr",
          "text": [
            "Training: 100%|██████████| 706/706 [04:47<00:00,  2.46it/s]\n"
          ]
        },
        {
          "output_type": "stream",
          "name": "stdout",
          "text": [
            "Train Loss: 0.1223, Train Accuracy: 95.71%\n"
          ]
        },
        {
          "output_type": "stream",
          "name": "stderr",
          "text": [
            "Validation: 100%|██████████| 79/79 [00:26<00:00,  2.94it/s]\n"
          ]
        },
        {
          "output_type": "stream",
          "name": "stdout",
          "text": [
            "Val Loss: 0.1963, Val Accuracy: 91.21%\n",
            "\n",
            "Epoch 5/10\n",
            "--------------------------------------------------\n"
          ]
        },
        {
          "output_type": "stream",
          "name": "stderr",
          "text": [
            "Training: 100%|██████████| 706/706 [04:47<00:00,  2.46it/s]\n"
          ]
        },
        {
          "output_type": "stream",
          "name": "stdout",
          "text": [
            "Train Loss: 0.1181, Train Accuracy: 95.79%\n"
          ]
        },
        {
          "output_type": "stream",
          "name": "stderr",
          "text": [
            "Validation: 100%|██████████| 79/79 [00:26<00:00,  2.94it/s]\n"
          ]
        },
        {
          "output_type": "stream",
          "name": "stdout",
          "text": [
            "Val Loss: 0.1927, Val Accuracy: 91.52%\n",
            "\n",
            "Epoch 6/10\n",
            "--------------------------------------------------\n"
          ]
        },
        {
          "output_type": "stream",
          "name": "stderr",
          "text": [
            "Training: 100%|██████████| 706/706 [04:46<00:00,  2.46it/s]\n"
          ]
        },
        {
          "output_type": "stream",
          "name": "stdout",
          "text": [
            "Train Loss: 0.1165, Train Accuracy: 95.93%\n"
          ]
        },
        {
          "output_type": "stream",
          "name": "stderr",
          "text": [
            "Validation: 100%|██████████| 79/79 [00:26<00:00,  2.93it/s]\n"
          ]
        },
        {
          "output_type": "stream",
          "name": "stdout",
          "text": [
            "Val Loss: 0.1902, Val Accuracy: 91.52%\n",
            "\n",
            "Epoch 7/10\n",
            "--------------------------------------------------\n"
          ]
        },
        {
          "output_type": "stream",
          "name": "stderr",
          "text": [
            "Training: 100%|██████████| 706/706 [04:47<00:00,  2.46it/s]\n"
          ]
        },
        {
          "output_type": "stream",
          "name": "stdout",
          "text": [
            "Train Loss: 0.1149, Train Accuracy: 95.98%\n"
          ]
        },
        {
          "output_type": "stream",
          "name": "stderr",
          "text": [
            "Validation: 100%|██████████| 79/79 [00:26<00:00,  2.94it/s]\n"
          ]
        },
        {
          "output_type": "stream",
          "name": "stdout",
          "text": [
            "Val Loss: 0.1864, Val Accuracy: 91.88%\n",
            "\n",
            "Epoch 8/10\n",
            "--------------------------------------------------\n"
          ]
        },
        {
          "output_type": "stream",
          "name": "stderr",
          "text": [
            "Training: 100%|██████████| 706/706 [04:47<00:00,  2.46it/s]\n"
          ]
        },
        {
          "output_type": "stream",
          "name": "stdout",
          "text": [
            "Train Loss: 0.1134, Train Accuracy: 95.98%\n"
          ]
        },
        {
          "output_type": "stream",
          "name": "stderr",
          "text": [
            "Validation: 100%|██████████| 79/79 [00:26<00:00,  2.93it/s]\n"
          ]
        },
        {
          "output_type": "stream",
          "name": "stdout",
          "text": [
            "Val Loss: 0.1851, Val Accuracy: 91.96%\n",
            "✓ Saved best model with validation accuracy: 91.96%\n",
            "\n",
            "Epoch 9/10\n",
            "--------------------------------------------------\n"
          ]
        },
        {
          "output_type": "stream",
          "name": "stderr",
          "text": [
            "Training: 100%|██████████| 706/706 [04:46<00:00,  2.46it/s]\n"
          ]
        },
        {
          "output_type": "stream",
          "name": "stdout",
          "text": [
            "Train Loss: 0.1112, Train Accuracy: 96.02%\n"
          ]
        },
        {
          "output_type": "stream",
          "name": "stderr",
          "text": [
            "Validation: 100%|██████████| 79/79 [00:26<00:00,  2.94it/s]\n"
          ]
        },
        {
          "output_type": "stream",
          "name": "stdout",
          "text": [
            "Val Loss: 0.1877, Val Accuracy: 91.76%\n",
            "\n",
            "Epoch 10/10\n",
            "--------------------------------------------------\n"
          ]
        },
        {
          "output_type": "stream",
          "name": "stderr",
          "text": [
            "Training: 100%|██████████| 706/706 [04:47<00:00,  2.46it/s]\n"
          ]
        },
        {
          "output_type": "stream",
          "name": "stdout",
          "text": [
            "Train Loss: 0.1112, Train Accuracy: 96.02%\n"
          ]
        },
        {
          "output_type": "stream",
          "name": "stderr",
          "text": [
            "Validation: 100%|██████████| 79/79 [00:26<00:00,  2.94it/s]"
          ]
        },
        {
          "output_type": "stream",
          "name": "stdout",
          "text": [
            "Val Loss: 0.1833, Val Accuracy: 91.88%\n"
          ]
        },
        {
          "output_type": "stream",
          "name": "stderr",
          "text": [
            "\n"
          ]
        }
      ],
      "source": [
        "print(\"\\n\" + \"=\" * 60)\n",
        "print(\"Training Vit-B/16\")\n",
        "print(\"=\" * 60)\n",
        "history_vit = train_model(model_vit, train_loader, val_loader, optimizer_vit, loss_fn, device, epochs=10)"
      ]
    },
    {
      "cell_type": "code",
      "source": [
        "print(\"\\n\" + \"=\" * 60)\n",
        "print(\"Training Swin-B\")\n",
        "print(\"=\" * 60)\n",
        "history_swin = train_model(model_swin, train_loader, val_loader, optimizer_swin, loss_fn, device, epochs=10)"
      ],
      "metadata": {
        "colab": {
          "base_uri": "https://localhost:8080/"
        },
        "id": "GLR2dUl5gQ4_",
        "outputId": "762d1ab4-cf16-47cc-c50e-23179cbe64ed"
      },
      "execution_count": 14,
      "outputs": [
        {
          "output_type": "stream",
          "name": "stdout",
          "text": [
            "\n",
            "============================================================\n",
            "Training Swin-B\n",
            "============================================================\n",
            "\n",
            "Epoch 1/10\n",
            "--------------------------------------------------\n"
          ]
        },
        {
          "output_type": "stream",
          "name": "stderr",
          "text": [
            "Training: 100%|██████████| 706/706 [04:23<00:00,  2.68it/s]\n"
          ]
        },
        {
          "output_type": "stream",
          "name": "stdout",
          "text": [
            "Train Loss: 0.2076, Train Accuracy: 93.21%\n"
          ]
        },
        {
          "output_type": "stream",
          "name": "stderr",
          "text": [
            "Validation: 100%|██████████| 79/79 [00:29<00:00,  2.71it/s]\n"
          ]
        },
        {
          "output_type": "stream",
          "name": "stdout",
          "text": [
            "Val Loss: 0.2054, Val Accuracy: 90.69%\n",
            "✓ Saved best model with validation accuracy: 90.69%\n",
            "\n",
            "Epoch 2/10\n",
            "--------------------------------------------------\n"
          ]
        },
        {
          "output_type": "stream",
          "name": "stderr",
          "text": [
            "Training: 100%|██████████| 706/706 [04:23<00:00,  2.68it/s]\n"
          ]
        },
        {
          "output_type": "stream",
          "name": "stdout",
          "text": [
            "Train Loss: 0.1475, Train Accuracy: 95.05%\n"
          ]
        },
        {
          "output_type": "stream",
          "name": "stderr",
          "text": [
            "Validation: 100%|██████████| 79/79 [00:29<00:00,  2.68it/s]\n"
          ]
        },
        {
          "output_type": "stream",
          "name": "stdout",
          "text": [
            "Val Loss: 0.2016, Val Accuracy: 90.85%\n",
            "✓ Saved best model with validation accuracy: 90.85%\n",
            "\n",
            "Epoch 3/10\n",
            "--------------------------------------------------\n"
          ]
        },
        {
          "output_type": "stream",
          "name": "stderr",
          "text": [
            "Training: 100%|██████████| 706/706 [04:23<00:00,  2.68it/s]\n"
          ]
        },
        {
          "output_type": "stream",
          "name": "stdout",
          "text": [
            "Train Loss: 0.1396, Train Accuracy: 95.12%\n"
          ]
        },
        {
          "output_type": "stream",
          "name": "stderr",
          "text": [
            "Validation: 100%|██████████| 79/79 [00:29<00:00,  2.70it/s]\n"
          ]
        },
        {
          "output_type": "stream",
          "name": "stdout",
          "text": [
            "Val Loss: 0.1833, Val Accuracy: 92.56%\n",
            "✓ Saved best model with validation accuracy: 92.56%\n",
            "\n",
            "Epoch 4/10\n",
            "--------------------------------------------------\n"
          ]
        },
        {
          "output_type": "stream",
          "name": "stderr",
          "text": [
            "Training: 100%|██████████| 706/706 [04:23<00:00,  2.68it/s]\n"
          ]
        },
        {
          "output_type": "stream",
          "name": "stdout",
          "text": [
            "Train Loss: 0.1357, Train Accuracy: 95.24%\n"
          ]
        },
        {
          "output_type": "stream",
          "name": "stderr",
          "text": [
            "Validation: 100%|██████████| 79/79 [00:29<00:00,  2.71it/s]\n"
          ]
        },
        {
          "output_type": "stream",
          "name": "stdout",
          "text": [
            "Val Loss: 0.2053, Val Accuracy: 91.01%\n",
            "\n",
            "Epoch 5/10\n",
            "--------------------------------------------------\n"
          ]
        },
        {
          "output_type": "stream",
          "name": "stderr",
          "text": [
            "Training: 100%|██████████| 706/706 [04:23<00:00,  2.68it/s]\n"
          ]
        },
        {
          "output_type": "stream",
          "name": "stdout",
          "text": [
            "Train Loss: 0.1351, Train Accuracy: 95.23%\n"
          ]
        },
        {
          "output_type": "stream",
          "name": "stderr",
          "text": [
            "Validation: 100%|██████████| 79/79 [00:29<00:00,  2.71it/s]\n"
          ]
        },
        {
          "output_type": "stream",
          "name": "stdout",
          "text": [
            "Val Loss: 0.2035, Val Accuracy: 90.85%\n",
            "\n",
            "Epoch 6/10\n",
            "--------------------------------------------------\n"
          ]
        },
        {
          "output_type": "stream",
          "name": "stderr",
          "text": [
            "Training: 100%|██████████| 706/706 [04:23<00:00,  2.68it/s]\n"
          ]
        },
        {
          "output_type": "stream",
          "name": "stdout",
          "text": [
            "Train Loss: 0.1349, Train Accuracy: 95.11%\n"
          ]
        },
        {
          "output_type": "stream",
          "name": "stderr",
          "text": [
            "Validation: 100%|██████████| 79/79 [00:29<00:00,  2.70it/s]\n"
          ]
        },
        {
          "output_type": "stream",
          "name": "stdout",
          "text": [
            "Val Loss: 0.1966, Val Accuracy: 91.36%\n",
            "\n",
            "Epoch 7/10\n",
            "--------------------------------------------------\n"
          ]
        },
        {
          "output_type": "stream",
          "name": "stderr",
          "text": [
            "Training: 100%|██████████| 706/706 [04:23<00:00,  2.68it/s]\n"
          ]
        },
        {
          "output_type": "stream",
          "name": "stdout",
          "text": [
            "Train Loss: 0.1299, Train Accuracy: 95.54%\n"
          ]
        },
        {
          "output_type": "stream",
          "name": "stderr",
          "text": [
            "Validation: 100%|██████████| 79/79 [00:29<00:00,  2.70it/s]\n"
          ]
        },
        {
          "output_type": "stream",
          "name": "stdout",
          "text": [
            "Val Loss: 0.1847, Val Accuracy: 92.04%\n",
            "\n",
            "Epoch 8/10\n",
            "--------------------------------------------------\n"
          ]
        },
        {
          "output_type": "stream",
          "name": "stderr",
          "text": [
            "Training: 100%|██████████| 706/706 [04:23<00:00,  2.68it/s]\n"
          ]
        },
        {
          "output_type": "stream",
          "name": "stdout",
          "text": [
            "Train Loss: 0.1306, Train Accuracy: 95.32%\n"
          ]
        },
        {
          "output_type": "stream",
          "name": "stderr",
          "text": [
            "Validation: 100%|██████████| 79/79 [00:29<00:00,  2.70it/s]\n"
          ]
        },
        {
          "output_type": "stream",
          "name": "stdout",
          "text": [
            "Val Loss: 0.1743, Val Accuracy: 92.52%\n",
            "\n",
            "Epoch 9/10\n",
            "--------------------------------------------------\n"
          ]
        },
        {
          "output_type": "stream",
          "name": "stderr",
          "text": [
            "Training: 100%|██████████| 706/706 [04:23<00:00,  2.68it/s]\n"
          ]
        },
        {
          "output_type": "stream",
          "name": "stdout",
          "text": [
            "Train Loss: 0.1302, Train Accuracy: 95.31%\n"
          ]
        },
        {
          "output_type": "stream",
          "name": "stderr",
          "text": [
            "Validation: 100%|██████████| 79/79 [00:29<00:00,  2.69it/s]\n"
          ]
        },
        {
          "output_type": "stream",
          "name": "stdout",
          "text": [
            "Val Loss: 0.1822, Val Accuracy: 92.04%\n",
            "\n",
            "Epoch 10/10\n",
            "--------------------------------------------------\n"
          ]
        },
        {
          "output_type": "stream",
          "name": "stderr",
          "text": [
            "Training: 100%|██████████| 706/706 [04:22<00:00,  2.68it/s]\n"
          ]
        },
        {
          "output_type": "stream",
          "name": "stdout",
          "text": [
            "Train Loss: 0.1269, Train Accuracy: 95.45%\n"
          ]
        },
        {
          "output_type": "stream",
          "name": "stderr",
          "text": [
            "Validation: 100%|██████████| 79/79 [00:29<00:00,  2.71it/s]"
          ]
        },
        {
          "output_type": "stream",
          "name": "stdout",
          "text": [
            "Val Loss: 0.1915, Val Accuracy: 91.76%\n"
          ]
        },
        {
          "output_type": "stream",
          "name": "stderr",
          "text": [
            "\n"
          ]
        }
      ]
    },
    {
      "cell_type": "code",
      "execution_count": null,
      "metadata": {
        "id": "xok_JOZm0bz6",
        "colab": {
          "base_uri": "https://localhost:8080/"
        },
        "outputId": "5a49bf60-39db-43c9-a101-cf4b98d6f34c"
      },
      "outputs": [
        {
          "output_type": "stream",
          "name": "stdout",
          "text": [
            "\n",
            "============================================================\n",
            "Training DINOv2\n",
            "============================================================\n",
            "\n",
            "Epoch 1/10\n",
            "--------------------------------------------------\n"
          ]
        },
        {
          "output_type": "stream",
          "name": "stderr",
          "text": [
            "Training: 100%|██████████| 706/706 [05:19<00:00,  2.21it/s]\n"
          ]
        },
        {
          "output_type": "stream",
          "name": "stdout",
          "text": [
            "Train Loss: 0.1320, Train Accuracy: 95.26%\n"
          ]
        },
        {
          "output_type": "stream",
          "name": "stderr",
          "text": [
            "Validation: 100%|██████████| 79/79 [00:35<00:00,  2.20it/s]\n"
          ]
        },
        {
          "output_type": "stream",
          "name": "stdout",
          "text": [
            "Val Loss: 0.2118, Val Accuracy: 91.05%\n",
            "✓ Saved best model with validation accuracy: 91.05%\n",
            "\n",
            "Epoch 2/10\n",
            "--------------------------------------------------\n"
          ]
        },
        {
          "output_type": "stream",
          "name": "stderr",
          "text": [
            "Training:   3%|▎         | 18/706 [00:08<05:08,  2.23it/s]"
          ]
        }
      ],
      "source": [
        "print(\"\\n\" + \"=\" * 60)\n",
        "print(\"Training DINOv2\")\n",
        "print(\"=\" * 60)\n",
        "history_dinov2 = train_model(model_dinov2, train_loader, val_loader, optimizer_dinov2, loss_fn, device, epochs=10)"
      ]
    },
    {
      "cell_type": "code",
      "execution_count": null,
      "metadata": {
        "id": "XVMgK3fm0hHo"
      },
      "outputs": [],
      "source": [
        "import pandas as pd\n",
        "\n",
        "results = pd.DataFrame({\n",
        "    'Model': ['ResNet152', 'ViT-B/16', 'Swin-B', 'DINOv2'],\n",
        "    'Final Train Acc': [\n",
        "        history_resnet['train_accuracy'][-1],\n",
        "        history_vit['train_accuracy'][-1],\n",
        "        history_swin['train_accuracy'][-1],\n",
        "        history_dinov2['train_accuracy'][-1]\n",
        "    ],\n",
        "    'Final Val Acc': [\n",
        "        history_resnet['val_accuracy'][-1],\n",
        "        history_vit['val_accuracy'][-1],\n",
        "        history_swin['val_accuracy'][-1],\n",
        "        history_dinov2['val_accuracy'][-1]\n",
        "    ],\n",
        "    'Best Val Acc': [\n",
        "        max(history_resnet['val_accuracy']),\n",
        "        max(history_vit['val_accuracy']),\n",
        "        max(history_swin['val_accuracy']),\n",
        "        max(history_dinov2['val_accuracy'])\n",
        "    ]\n",
        "})\n",
        "\n",
        "print(\"\\n\" + \"=\" * 60)\n",
        "print(\"Results Comparison\")\n",
        "print(\"=\" * 60)\n",
        "print(results.to_string(index=False))\n",
        "print(\"\\nBest model:\", results.loc[results['Best Val Acc'].idxmax(), 'Model'])"
      ]
    },
    {
      "cell_type": "code",
      "execution_count": null,
      "metadata": {
        "id": "tmGujJlW_Lx4"
      },
      "outputs": [],
      "source": [
        "import matplotlib.pyplot as plt\n",
        "\n",
        "fig, axes = plt.subplots(2, 2, figsize=(15, 10))\n",
        "\n",
        "models_data = {\n",
        "    'ResNet152': history_resnet,\n",
        "    'ViT-B/16': history_vit,\n",
        "    'Swin-B': history_swin,\n",
        "    'DINOv2': history_dinov2\n",
        "}\n",
        "\n",
        "colors = {'ResNet152': 'blue', 'ViT-B/16': 'green', 'Swin-B': 'red', 'DINOv2': 'orange'}\n",
        "\n",
        "ax1 = axes[0, 0]\n",
        "for model_name, history in models_data.items():\n",
        "    epochs_range = range(1, len(history['train_loss']) + 1)\n",
        "    ax1.plot(epochs_range, history['train_loss'],\n",
        "             marker='o', label=model_name, color=colors[model_name], linewidth=2)\n",
        "ax1.set_xlabel('Epoch', fontsize=12)\n",
        "ax1.set_ylabel('Loss', fontsize=12)\n",
        "ax1.set_title('Training Loss', fontsize=14, fontweight='bold')\n",
        "ax1.legend()\n",
        "ax1.grid(True, alpha=0.3)\n",
        "\n",
        "ax2 = axes[0, 1]\n",
        "for model_name, history in models_data.items():\n",
        "    epochs_range = range(1, len(history['val_loss']) + 1)\n",
        "    ax2.plot(epochs_range, history['val_loss'],\n",
        "             marker='o', label=model_name, color=colors[model_name], linewidth=2)\n",
        "ax2.set_xlabel('Epoch', fontsize=12)\n",
        "ax2.set_ylabel('Loss', fontsize=12)\n",
        "ax2.set_title('Validation Loss', fontsize=14, fontweight='bold')\n",
        "ax2.legend()\n",
        "ax2.grid(True, alpha=0.3)\n",
        "\n",
        "ax3 = axes[1, 0]\n",
        "for model_name, history in models_data.items():\n",
        "    epochs_range = range(1, len(history['train_accuracy']) + 1)\n",
        "    ax3.plot(epochs_range, history['train_accuracy'],\n",
        "             marker='o', label=model_name, color=colors[model_name], linewidth=2)\n",
        "ax3.set_xlabel('Epoch', fontsize=12)\n",
        "ax3.set_ylabel('Accuracy (%)', fontsize=12)\n",
        "ax3.set_title('Training Accuracy', fontsize=14, fontweight='bold')\n",
        "ax3.legend()\n",
        "ax3.grid(True, alpha=0.3)\n",
        "\n",
        "ax4 = axes[1, 1]\n",
        "for model_name, history in models_data.items():\n",
        "    epochs_range = range(1, len(history['val_accuracy']) + 1)\n",
        "    ax4.plot(epochs_range, history['val_accuracy'],\n",
        "             marker='o', label=model_name, color=colors[model_name], linewidth=2)\n",
        "ax4.set_xlabel('Epoch', fontsize=12)\n",
        "ax4.set_ylabel('Accuracy (%)', fontsize=12)\n",
        "ax4.set_title('Validation Accuracy', fontsize=14, fontweight='bold')\n",
        "ax4.legend()\n",
        "ax4.grid(True, alpha=0.3)\n",
        "\n",
        "plt.tight_layout()\n",
        "plt.suptitle('Training Progress Comparison', y=1.01, fontsize=16, fontweight='bold')\n",
        "plt.show()"
      ]
    },
    {
      "cell_type": "code",
      "source": [],
      "metadata": {
        "id": "Vt4-UW5HlfFV"
      },
      "execution_count": null,
      "outputs": []
    }
  ],
  "metadata": {
    "accelerator": "GPU",
    "colab": {
      "gpuType": "T4",
      "provenance": []
    },
    "kernelspec": {
      "display_name": "Python 3",
      "name": "python3"
    },
    "language_info": {
      "name": "python"
    }
  },
  "nbformat": 4,
  "nbformat_minor": 0
}